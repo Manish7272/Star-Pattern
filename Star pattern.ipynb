{
 "cells": [
  {
   "cell_type": "code",
   "execution_count": 4,
   "metadata": {},
   "outputs": [
    {
     "name": "stdout",
     "output_type": "stream",
     "text": [
      "*        \n",
      "* *      \n",
      "* * *    \n",
      "* * * *  \n"
     ]
    }
   ],
   "source": [
    "for i in range(1,5):\n",
    "    for j in range(1,5):\n",
    "        if j<=i:\n",
    "            print(\"*\", end=\" \")\n",
    "        else:\n",
    "            print(\" \", end=\" \")\n",
    "    print(\" \")"
   ]
  },
  {
   "cell_type": "code",
   "execution_count": 7,
   "metadata": {},
   "outputs": [
    {
     "name": "stdout",
     "output_type": "stream",
     "text": [
      "* * * *  \n",
      "* * *  \n",
      "* *  \n",
      "*  \n"
     ]
    }
   ],
   "source": [
    "for i in range(1,5):\n",
    "    for j in range(1,5):\n",
    "        if j>=i:\n",
    "            print(\"*\", end=\" \")\n",
    "        \n",
    "    print(\" \")"
   ]
  },
  {
   "cell_type": "code",
   "execution_count": null,
   "metadata": {},
   "outputs": [],
   "source": [
    "for i in range(1,5):\n",
    "    for j in range(1,5):\n",
    "        if j>=i:\n",
    "            print(\"*\", end=\" \")\n",
    "        # else:\n",
    "        #     print(\" \", end=\" \")\n",
    "    print(\" \")"
   ]
  },
  {
   "cell_type": "code",
   "execution_count": 27,
   "metadata": {},
   "outputs": [
    {
     "name": "stdout",
     "output_type": "stream",
     "text": [
      "      * \n",
      "    * * \n",
      "  * * * \n",
      "* * * * \n"
     ]
    }
   ],
   "source": [
    "for i in range(1,5):\n",
    "    for j in range(1,5):\n",
    "        if j>=5-i:\n",
    "            print(\"*\", end=\" \")\n",
    "        else:\n",
    "            print(\" \", end=\" \")\n",
    "    print()"
   ]
  },
  {
   "cell_type": "code",
   "execution_count": 9,
   "metadata": {},
   "outputs": [
    {
     "name": "stdout",
     "output_type": "stream",
     "text": [
      "* * * * \n",
      "* * *   \n",
      "* *     \n",
      "*       \n"
     ]
    }
   ],
   "source": [
    "for i in range(1,5):\n",
    "    for j in range(1,5):\n",
    "        if j<=5-i:\n",
    "            print(\"*\", end=\" \")\n",
    "        else:\n",
    "            print(\" \", end=\" \")\n",
    "            \n",
    "    print()"
   ]
  },
  {
   "cell_type": "code",
   "execution_count": 32,
   "metadata": {},
   "outputs": [
    {
     "name": "stdout",
     "output_type": "stream",
     "text": [
      "      *       \n",
      "    * * *     \n",
      "  * * * * *   \n",
      "* * * * * * * \n"
     ]
    }
   ],
   "source": [
    "for i in range(1,5):\n",
    "    for j in range(1,8):\n",
    "        if j>=5-i and j<=3+i:\n",
    "            print(\"*\", end=\" \")\n",
    "        else:\n",
    "            print(\" \",end=\" \" )\n",
    "    print()"
   ]
  },
  {
   "cell_type": "code",
   "execution_count": 34,
   "metadata": {},
   "outputs": [
    {
     "name": "stdout",
     "output_type": "stream",
     "text": [
      "* * * * * * * \n",
      "  * * * * *   \n",
      "    * * *     \n",
      "      *       \n"
     ]
    }
   ],
   "source": [
    "for i in range(1,5):\n",
    "    for j in range(1,8):\n",
    "        if j>=i and j<=8-i:\n",
    "            print(\"*\", end=\" \")\n",
    "        else:\n",
    "            print(\" \",end=\" \" )\n",
    "    print()"
   ]
  },
  {
   "cell_type": "code",
   "execution_count": 35,
   "metadata": {},
   "outputs": [
    {
     "name": "stdout",
     "output_type": "stream",
     "text": [
      "* * * * * * * \n",
      "* * *   * * * \n",
      "* *       * * \n",
      "*           * \n"
     ]
    }
   ],
   "source": [
    "for i in range(1,5):\n",
    "    for j in range(1,8):\n",
    "        if j<=5-i or j>=3+i:\n",
    "            print(\"*\", end=\" \")\n",
    "        else:\n",
    "            print(\" \", end=\" \")\n",
    "    print(\"\")"
   ]
  },
  {
   "cell_type": "code",
   "execution_count": 11,
   "metadata": {},
   "outputs": [
    {
     "name": "stdout",
     "output_type": "stream",
     "text": [
      "1       \n",
      "1 2     \n",
      "1 2 3   \n",
      "1 2 3 4 \n"
     ]
    }
   ],
   "source": [
    "for i in range(1,5):\n",
    "    for j in range(1,5):\n",
    "        if j<=i:\n",
    "            print(j, end=\" \")\n",
    "        else:\n",
    "            print(\" \", end=\" \")\n",
    "    print()\n",
    "        \n"
   ]
  },
  {
   "cell_type": "code",
   "execution_count": 13,
   "metadata": {},
   "outputs": [
    {
     "name": "stdout",
     "output_type": "stream",
     "text": [
      "5 4 3 2 1 \n",
      "4 3 2 1   \n",
      "3 2 1     \n",
      "2 1       \n",
      "1         \n"
     ]
    }
   ],
   "source": [
    "for i in range(1,6):\n",
    "    k=6-i\n",
    "    for j in range(1,6):\n",
    "        if j<=6-i:\n",
    "            print(k, end=\" \")\n",
    "            k=k-1\n",
    "        else:\n",
    "            print(\" \", end=\" \")\n",
    "    print()\n",
    "        \n"
   ]
  },
  {
   "cell_type": "code",
   "execution_count": 40,
   "metadata": {},
   "outputs": [
    {
     "ename": "",
     "evalue": "",
     "output_type": "error",
     "traceback": [
      "\u001b[1;31mThe Kernel crashed while executing code in the current cell or a previous cell. \n",
      "\u001b[1;31mPlease review the code in the cell(s) to identify a possible cause of the failure. \n",
      "\u001b[1;31mClick <a href='https://aka.ms/vscodeJupyterKernelCrash'>here</a> for more info. \n",
      "\u001b[1;31mView Jupyter <a href='command:jupyter.viewOutput'>log</a> for further details."
     ]
    }
   ],
   "source": [
    "from turtle import *\n",
    "import colorsys\n",
    "\n",
    "speed(0)\n",
    "bgcolor(\"black\")\n",
    "h=0\n",
    "for i in range(16):\n",
    "    for j in range(18):\n",
    "        c = colorsys.hsv_to_rgb(h,1,1)\n",
    "        color(c)\n",
    "        h += 0.005\n",
    "        rt(90)\n",
    "        circle(150 - j * 6, 90)\n",
    "\n",
    "        lt(90)\n",
    "        circle(150 - j * 6 , 90)\n",
    "\n",
    "        rt(180)\n",
    "        circle(40, 24)\n"
   ]
  },
  {
   "cell_type": "code",
   "execution_count": null,
   "metadata": {},
   "outputs": [],
   "source": [
    "\n"
   ]
  }
 ],
 "metadata": {
  "kernelspec": {
   "display_name": "venv",
   "language": "python",
   "name": "python3"
  },
  "language_info": {
   "codemirror_mode": {
    "name": "ipython",
    "version": 3
   },
   "file_extension": ".py",
   "mimetype": "text/x-python",
   "name": "python",
   "nbconvert_exporter": "python",
   "pygments_lexer": "ipython3",
   "version": "3.10.11"
  }
 },
 "nbformat": 4,
 "nbformat_minor": 2
}
